{
 "cells": [
  {
   "cell_type": "markdown",
   "metadata": {},
   "source": [
    "## Introduction\n",
    "* Both are classification probelm \n",
    "\n",
    "### Question to answer \n",
    "For each case the following should be done:\n",
    "+ Formulate the question are you trying the answer?\n",
    "+ Clearly describe the problem that you want to solve.\n",
    "+ What are the features and labels to start with, motivate your choices (e.g. based on literature).\n",
    "+ Make a description of the dataset.\n",
    "+ Find out which are the most important features, should you add and remove features?\n",
    "+ Show how far can you go with K-means clustering?\n",
    "+ Apply different classification algorithms, vary the values of the most important parameters, play with the number of features and keep records of algo scores. \n",
    "+ Motivate your choices, and of course, support your research journey with appealing and informative graphs and diagrams."
   ]
  },
  {
   "cell_type": "markdown",
   "metadata": {},
   "source": [
    "#### case 1 - wine quality\n",
    "* Data Set Information\n",
    "The data are the results of a chemical analysis of wines grown in the same region in Italy but derived from three different cultivars. "
   ]
  },
  {
   "cell_type": "code",
   "execution_count": 22,
   "metadata": {
    "collapsed": true
   },
   "outputs": [],
   "source": [
    "# All Dependices\n",
    "%matplotlib inline\n",
    "import numpy as np\n",
    "import matplotlib.pyplot as plt\n",
    "from scipy import stats\n",
    "import csv\n",
    "from sklearn.cluster import KMeans"
   ]
  },
  {
   "cell_type": "code",
   "execution_count": null,
   "metadata": {
    "collapsed": true
   },
   "outputs": [],
   "source": [
    "## Q) Formulate the question are you trying the answer?\n",
    "\n",
    "## A) From chemical analysis of wine , would it be possible to figure what are the other forumals/main ingredients\n",
    "##    other than the 13 constituents found in each of the three types of wines ?"
   ]
  },
  {
   "cell_type": "code",
   "execution_count": null,
   "metadata": {
    "collapsed": true
   },
   "outputs": [],
   "source": [
    "## Q) Clearly describe the problem that you want to solve.\n",
    "\n",
    "## A) Apparently from wine analysis , there are 3 types of wine that are manifacured in italy. From these 3 types \n",
    "##    only 13 ingredints are known out of the 30 unkown. I would like to try to use machine learning to figure out\n",
    "##    the other possible ingredints and how the best forumla for making wine."
   ]
  },
  {
   "cell_type": "code",
   "execution_count": null,
   "metadata": {
    "collapsed": true
   },
   "outputs": [],
   "source": [
    "## What are the features and labels to start with,\n",
    "## motivate your choices (e.g. based on literature)."
   ]
  },
  {
   "cell_type": "code",
   "execution_count": 18,
   "metadata": {
    "collapsed": false
   },
   "outputs": [],
   "source": [
    "## Make a description of the dataset.\n"
   ]
  },
  {
   "cell_type": "code",
   "execution_count": null,
   "metadata": {
    "collapsed": true
   },
   "outputs": [],
   "source": [
    "## Find out which are the most important features,\n",
    "## should you add and remove features?"
   ]
  },
  {
   "cell_type": "code",
   "execution_count": 82,
   "metadata": {
    "collapsed": false
   },
   "outputs": [
    {
     "data": {
      "text/plain": [
       "array([['1', '14.23', '1.71', ..., '1.04', '3.92', '1065'],\n",
       "       ['1', '13.2', '1.78', ..., '1.05', '3.4', '1050'],\n",
       "       ['1', '13.16', '2.36', ..., '1.03', '3.17', '1185'],\n",
       "       ..., \n",
       "       ['3', '13.27', '4.28', ..., '.59', '1.56', '835'],\n",
       "       ['3', '13.17', '2.59', ..., '.6', '1.62', '840'],\n",
       "       ['3', '14.13', '4.1', ..., '.61', '1.6', '560']], \n",
       "      dtype='<U8')"
      ]
     },
     "execution_count": 82,
     "metadata": {},
     "output_type": "execute_result"
    }
   ],
   "source": [
    "## Show how far can you go with K-means clustering?\n",
    "f=open(\"wine-data.csv\")\n",
    "x = []\n",
    "for row in csv.reader(f):\n",
    "    x.append(row)\n",
    "a = np.array(x)\n",
    "\n",
    "a"
   ]
  },
  {
   "cell_type": "code",
   "execution_count": 79,
   "metadata": {
    "collapsed": false
   },
   "outputs": [
    {
     "name": "stderr",
     "output_type": "stream",
     "text": [
      "/tmp/machine-learning-kmean/lib/python3.4/site-packages/sklearn/utils/validation.py:420: DataConversionWarning: Data with input dtype <U8 was converted to float64.\n",
      "  warnings.warn(msg, DataConversionWarning)\n"
     ]
    }
   ],
   "source": [
    "# APPLY KMeans\n",
    "est = KMeans(4)  # 4 clusters\n",
    "est.fit(x)\n",
    "k_means = est.predict(a)"
   ]
  },
  {
   "cell_type": "code",
   "execution_count": null,
   "metadata": {
    "collapsed": true
   },
   "outputs": [],
   "source": [
    "## Apply different classification algorithms\n",
    "## vary the values of the most important parameters\n",
    "## play with the number of features and keep records of algo scores."
   ]
  },
  {
   "cell_type": "code",
   "execution_count": null,
   "metadata": {
    "collapsed": true
   },
   "outputs": [],
   "source": [
    "## Motivate your choices, and of course, support your research \n",
    "## journey with appealing and informative graphs and diagrams."
   ]
  },
  {
   "cell_type": "markdown",
   "metadata": {},
   "source": [
    "#### case 2 - Heart Disease"
   ]
  },
  {
   "cell_type": "code",
   "execution_count": null,
   "metadata": {
    "collapsed": true
   },
   "outputs": [],
   "source": []
  }
 ],
 "metadata": {
  "kernelspec": {
   "display_name": "Python 3",
   "language": "python",
   "name": "python3"
  },
  "language_info": {
   "codemirror_mode": {
    "name": "ipython",
    "version": 3
   },
   "file_extension": ".py",
   "mimetype": "text/x-python",
   "name": "python",
   "nbconvert_exporter": "python",
   "pygments_lexer": "ipython3",
   "version": "3.4.3+"
  }
 },
 "nbformat": 4,
 "nbformat_minor": 0
}
