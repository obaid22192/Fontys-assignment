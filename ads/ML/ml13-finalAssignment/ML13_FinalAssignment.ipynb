{
 "cells": [
  {
   "cell_type": "markdown",
   "metadata": {},
   "source": [
    "# Final Assignment Machine Learning"
   ]
  },
  {
   "cell_type": "markdown",
   "metadata": {},
   "source": [
    "## Introduction"
   ]
  },
  {
   "cell_type": "markdown",
   "metadata": {},
   "source": [
    "Below 2 cases are shortly presented. \n",
    "\n",
    "The first case has a small amount of data and is fairly easy, and the second case is of intermediate level.\n",
    "\n",
    "For this final assignment you should work out both cases. Every case can be considered as a typical classification problem. The data of both cases is available on the UCI website. Both cases have labels.\n",
    "\n",
    "For each case the following should be done:\n",
    "+ Formulate the question are you trying the answer?\n",
    "+ Clearly describe the problem that you want to solve.\n",
    "+ What are the features and labels to start with, motivate your choices (e.g. based on literature).\n",
    "+ Make a description of the dataset.\n",
    "+ Find out which are the most important features, should you add and remove features?\n",
    "+ Show how far can you go with K-means clustering?\n",
    "+ Apply different classification algorithms, vary the values of the most important parameters, play with the number of features and keep records of algo scores. \n",
    "+ Motivate your choices, and of course, support your research journey with appealing and informative graphs and diagrams."
   ]
  },
  {
   "cell_type": "markdown",
   "metadata": {},
   "source": [
    "## Case 1 - Wine Quality"
   ]
  },
  {
   "cell_type": "markdown",
   "metadata": {},
   "source": [
    "**Data Set Information**\n",
    "\n",
    "The data are the results of a chemical analysis of wines grown in the same region in Italy but derived from three different cultivars. \n",
    "\n",
    "See: [UCI Wine](http://archive.ics.uci.edu/ml/datasets/Wine)"
   ]
  },
  {
   "cell_type": "markdown",
   "metadata": {},
   "source": [
    "## Case 2 - Heart Disease"
   ]
  },
  {
   "cell_type": "markdown",
   "metadata": {},
   "source": [
    "**Data Set Information**\n",
    "\n",
    "A number of attributes are listed that possibly influence heart diseases. The presence of heart disease in the patient is an integer valued from 0 (no presence) to 4. \n",
    "\n",
    "The names and social security numbers of the patients were recently removed from the database, and replaced with dummy values. \n",
    "\n",
    "One file has been \"processed\", i.e. the Cleveland database (use this one!). \n",
    "\n",
    "See: [UCI Heart Disease](http://archive.ics.uci.edu/ml/datasets/Heart+Disease)"
   ]
  },
  {
   "cell_type": "markdown",
   "metadata": {
    "collapsed": true
   },
   "source": [
    "### Goodluck"
   ]
  }
 ],
 "metadata": {
  "kernelspec": {
   "display_name": "Python 3",
   "language": "python",
   "name": "python3"
  },
  "language_info": {
   "codemirror_mode": {
    "name": "ipython",
    "version": 3
   },
   "file_extension": ".py",
   "mimetype": "text/x-python",
   "name": "python",
   "nbconvert_exporter": "python",
   "pygments_lexer": "ipython3",
   "version": "3.4.3+"
  }
 },
 "nbformat": 4,
 "nbformat_minor": 0
}
